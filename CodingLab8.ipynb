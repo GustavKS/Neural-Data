{
 "cells": [
  {
   "cell_type": "markdown",
   "metadata": {},
   "source": [
    "_Neural Data Science_\n",
    "\n",
    "Lecturer: Jan Lause, Prof. Dr. Philipp Berens\n",
    "\n",
    "Tutors: Jonas Beck, Rita González Márquez, Fabio Seel\n",
    "\n",
    "Summer term 2024\n",
    "\n",
    "Name: FILL IN YOUR NAMES HERE\n",
    "\n",
    "# Coding Lab 8\n",
    "\n"
   ]
  },
  {
   "cell_type": "code",
   "execution_count": 172,
   "metadata": {},
   "outputs": [
    {
     "name": "stdout",
     "output_type": "stream",
     "text": [
      "The jupyter_black extension is already loaded. To reload it, use:\n",
      "  %reload_ext jupyter_black\n",
      "The watermark extension is already loaded. To reload it, use:\n",
      "  %reload_ext watermark\n",
      "Last updated: 2024-06-27 16:25:44Mitteleuropäische Sommerzeit\n",
      "\n",
      "Python implementation: CPython\n",
      "Python version       : 3.12.3\n",
      "IPython version      : 8.24.0\n",
      "\n",
      "sklearn: 1.4.2\n",
      "\n",
      "numpy     : 1.26.4\n",
      "seaborn   : 0.13.2\n",
      "matplotlib: 3.9.0\n",
      "\n",
      "Watermark: 2.4.3\n",
      "\n"
     ]
    }
   ],
   "source": [
    "import seaborn as sns\n",
    "import matplotlib.pyplot as plt\n",
    "import matplotlib as mpl\n",
    "import numpy as np\n",
    "\n",
    "mpl.rc(\"savefig\", dpi=72)\n",
    "sns.set_style(\"whitegrid\")\n",
    "%matplotlib inline\n",
    "\n",
    "%load_ext jupyter_black\n",
    "\n",
    "%load_ext watermark\n",
    "%watermark --time --date --timezone --updated --python --iversions --watermark -p sklearn"
   ]
  },
  {
   "cell_type": "markdown",
   "metadata": {},
   "source": [
    "# Task 1: Implement entropy estimators\n",
    "\n",
    "\n",
    "*Grading: 5 pts (basic) + 1 pts (advanced) + 3 pts (bonus)*"
   ]
  },
  {
   "cell_type": "markdown",
   "metadata": {},
   "source": [
    "## General framework\n",
    "\n",
    "Entropy is defined as \n",
    "\n",
    "$$\n",
    "H[p] = -\\sum_x p_x \\log p_x\n",
    "$$\n",
    "\n",
    "where $p_x = p(x=X)$. Here we assume that $X$ is a discrete random variable and that there are finitely many states $K$ that $X$ can take.\n",
    "\n",
    "We are interested in the entropy of discrete random variables, because of its relationship with mutual information:\n",
    "\n",
    "$$\n",
    "I[X|Y] = H[X] - H[X|Y]\n",
    "$$\n",
    "\n",
    "If we can estimate the entropy well, we can estimate the mutual information well. An application in neuroscience would be estimating the mutual information between a spike train modeled as a sequence of $1$ s and $0$ s (e.g. $(0,1,0,1,1)$) and a discrete set of stimuli.\n",
    "\n",
    "Note that a multivariate binary distribution modeling a spike train can always be mapped to a discrete univariate distribution, $\\mathbb{Z}_2 \\longrightarrow \\mathbb{Z_+}$, by interpreting each binary state $z \\in \\mathbb{Z}_2$ as its corresponding binary number and computing $f(z) = \\sum_i 2^{i} z_i$.\n",
    "\n",
    "As discussed in the lecture, the problem is that one always underestimates the true entropy of a distribution from samples. In this exercise you are meant to implement different estimators for discrete entropy and evaluate them on different discrete distributions:\n",
    "\n",
    "* Uniform distribution: $p(x=X) = \\frac{1}{K}$\n",
    "\n",
    "* \"Zipf's law\"- distribution: $p(x=X) = \\frac{1}{Z x} $, where $Z = \\sum_k 1/k$\n",
    "\n",
    "There is a really good series of blog posts about discrete entropy estimation to be found [here](http://www.nowozin.net/sebastian/blog/estimating-discrete-entropy-part-1.html), [here](http://www.nowozin.net/sebastian/blog/estimating-discrete-entropy-part-2.html) and [here](http://www.nowozin.net/sebastian/blog/estimating-discrete-entropy-part-3.html). \n",
    "\n",
    "Make sure you use binary logarithms throughout.\n"
   ]
  },
  {
   "cell_type": "markdown",
   "metadata": {},
   "source": [
    "## Implementation of the estimators\n",
    "\n",
    "Implement the\n",
    "\n",
    "* maximum likelihood estimator (1 pt)\n",
    "* miller-maddow corrected estimator (1 pt)\n",
    "* jack-knife corrected estimator (2 pt)\n",
    "* coverage adjusted estimator (1 pt).\n",
    "\n",
    "When implementing the jack-knife estimator, you may want to restrict the amount of resampling for performance reasons e.g. to 1000, even if more samples are available. By definition, $0\\log0=0$. Adapt the interfaces as needed for your implementation.\n",
    "\n",
    "In addition, implement or use one of the following more advanced estimators (1+3 pts, extra points if you use your own implementation):\n",
    "\n",
    "* [JVHW estimator](https://arxiv.org/abs/1406.6956) with code on [github](https://github.com/EEthinker/JVHW_Entropy_Estimators/tree/master/Python)\n",
    "* [Unseen estimator](http://papers.nips.cc/paper/5170-estimating-the-unseen-improved-estimators-for-entropy-and-other-properties) (includes Matlab code in Supplementary)\n",
    "* [Best Upper Bounds estimator](http://www.mitpressjournals.org/doi/abs/10.1162/089976603321780272) (Matlab code available on Ilias)\n",
    "\n",
    "For this part, you are allowed to use an existing implementation as well.\n"
   ]
  },
  {
   "cell_type": "markdown",
   "metadata": {},
   "source": [
    "## Basic\n",
    "*Grading: 5 pts*"
   ]
  },
  {
   "cell_type": "markdown",
   "metadata": {},
   "source": [
    "### MLE\n",
    "\n",
    "*Grading: 1 pts*\n",
    "\n",
    "$H_{ML}= -\\sum_{x}\\hat{p}(x)log(\\hat{p}(x))$"
   ]
  },
  {
   "cell_type": "code",
   "execution_count": 173,
   "metadata": {},
   "outputs": [],
   "source": [
    "def entropy_mle(phat):\n",
    "    \"\"\"Maximum likelihood or plug-in estimator of discrete entropy\n",
    "\n",
    "    Parameter\n",
    "    ---------\n",
    "\n",
    "    phat: np.array, shape=(n_bins, )\n",
    "        Estimate of the distribution / histogram\n",
    "\n",
    "    Return\n",
    "    ------\n",
    "    H: float\n",
    "        Entropy estimate\n",
    "    \"\"\"\n",
    "    # insert your code here (1 pt)\n",
    "\n",
    "    nonzero_phat = phat[phat > 0]\n",
    "    H = -np.sum(nonzero_phat * np.log2(nonzero_phat))\n",
    "\n",
    "    return H"
   ]
  },
  {
   "cell_type": "markdown",
   "metadata": {},
   "source": [
    "### Miller-Maddow corrected\n",
    "\n",
    "*Grading: 1 pts*\n",
    "\n",
    "$H_{MM}=H_{ML}+\\frac{\\hat{d}-1}{2n}$ \n",
    "\n",
    "$ \\hat{d} = \\#[\\hat{p}(x)>0]$ \n",
    "\n"
   ]
  },
  {
   "cell_type": "code",
   "execution_count": 174,
   "metadata": {},
   "outputs": [],
   "source": [
    "# own functions\n",
    "def f(z):\n",
    "    \"\"\"\n",
    "    Converts a binary sequence to its corresponding integer.\n",
    "\n",
    "    Parameters\n",
    "    ----------\n",
    "    binary_sequence: list or np.array\n",
    "        A binary sequence (list or array of 0s and 1s).\n",
    "\n",
    "    Returns\n",
    "    -------\n",
    "    integer_value: int\n",
    "        The integer representation of the binary sequence.\n",
    "    \"\"\"\n",
    "    return sum(z[i] * (2**i) for i in range(len(z)))\n",
    "\n",
    "\n",
    "def f_phat(sequences):\n",
    "    \"\"\"\n",
    "    Computes the probability of each binary sequence p(X=x).\n",
    "\n",
    "    Parameters\n",
    "    ----------\n",
    "    sequences: list of lists or np.array\n",
    "        A list of binary sequences (each sequence is a list or array of 0s and 1s).\n",
    "\n",
    "    Returns\n",
    "    -------\n",
    "    probabilities: np.array\n",
    "        An array of probabilities corresponding to each possible binary sequence.\n",
    "    \"\"\"\n",
    "    # Transform each binary sequence to its corresponding integer value\n",
    "    f_Z = np.array([f(z) for z in sequences])\n",
    "\n",
    "    # Count the occurrences of each integer value\n",
    "    unique_values, counts = np.unique(f_Z, return_counts=True)\n",
    "\n",
    "    # Determine the length of the output array (all possible outcomes)\n",
    "    max_value = 2 ** len(\n",
    "        sequences[0]\n",
    "    )  # Maximum integer value for the given sequence length\n",
    "\n",
    "    # Initialize probabilities array with zeros\n",
    "    phat = np.zeros(max_value)\n",
    "\n",
    "    # Calculate probabilities\n",
    "    phat[unique_values] = counts / len(sequences)\n",
    "\n",
    "    return phat"
   ]
  },
  {
   "cell_type": "code",
   "execution_count": 175,
   "metadata": {},
   "outputs": [],
   "source": [
    "def entropy_mm(phat, n):\n",
    "    \"\"\"Miller-Maddow corrected estimator of discrete entropy\n",
    "\n",
    "    Parameters\n",
    "    ----------\n",
    "\n",
    "    phat: np.array, shape=(n_bins, )\n",
    "        Estimate of the distribution / histogram\n",
    "\n",
    "    n:  int\n",
    "        Number of samples\n",
    "\n",
    "\n",
    "    Return\n",
    "    ------\n",
    "\n",
    "    H: float\n",
    "        Entropy estimate\n",
    "    \"\"\"\n",
    "\n",
    "    # insert your code here (1 pt)\n",
    "    H_mle = entropy_mle(phat)\n",
    "    dhat = len(phat[phat > 0])\n",
    "\n",
    "    H = H_mle + (dhat - 1) / (2 * n)\n",
    "\n",
    "    return H"
   ]
  },
  {
   "cell_type": "markdown",
   "metadata": {},
   "source": [
    "### Jack-knife corrected\n",
    "\n",
    "*Grading: 2 pts*\n",
    "\n",
    "$\\hat{H}_{JK} = N\\hat{H}_{ML} - (N-1)\\hat{H}_{ML}^{(.)}$ \n",
    "\n",
    "$\\hat{H}_{ML}^{(.)} = <H_{ML}^{\\lnot i}>$"
   ]
  },
  {
   "cell_type": "code",
   "execution_count": 176,
   "metadata": {},
   "outputs": [],
   "source": [
    "# def entropy_jk(x, edges):\n",
    "#     \"\"\"Jack-knife corrected estimator of discrete entropy\n",
    "\n",
    "#     Parameters\n",
    "#     ----------\n",
    "#     x: np.array, shape=(n_samples, )\n",
    "#         Samples\n",
    "\n",
    "#     edges: np.array, shape=(n_bins, )\n",
    "#         Histogram bin edges\n",
    "\n",
    "\n",
    "#     Return\n",
    "#     ------\n",
    "\n",
    "#     H: float\n",
    "#         Entropy estimate\n",
    "#     \"\"\"\n",
    "\n",
    "#     phat = f_phat(x)\n",
    "\n",
    "#     # insert your code here (2 pt)\n",
    "#     N = len(phat)\n",
    "\n",
    "#     # Compute the histogram\n",
    "#     hist, _ = np.histogram(phat, bins=edges, density=True)\n",
    "\n",
    "#     # Compute the MLE entropy for the full sample\n",
    "#     full_entropy = entropy_mle(phat)\n",
    "\n",
    "#     # Compute the leave-one-out entropies\n",
    "#     leave_one_out_entropies = []\n",
    "#     for i in range(N):\n",
    "#         phat_leave_one_out = np.delete(phat, i)\n",
    "#         hist_leave_one_out, _ = np.histogram(\n",
    "#             phat_leave_one_out, bins=edges, density=True\n",
    "#         )\n",
    "#         leave_one_out_entropy = entropy_mle(hist_leave_one_out)\n",
    "#         leave_one_out_entropies.append(leave_one_out_entropy)\n",
    "\n",
    "#     # Average leave-one-out entropy\n",
    "#     mean_leave_one_out_entropy = np.mean(leave_one_out_entropies)\n",
    "\n",
    "#     # Jackknife entropy estimate\n",
    "#     H = N * full_entropy - (N - 1) * mean_leave_one_out_entropy\n",
    "\n",
    "#     return H"
   ]
  },
  {
   "cell_type": "code",
   "execution_count": 177,
   "metadata": {},
   "outputs": [],
   "source": [
    "def entropy_jk(x, edges):\n",
    "    \"\"\"Jack-knife corrected estimator of discrete entropy\n",
    "\n",
    "    Parameters\n",
    "    ----------\n",
    "    x: np.array, shape=(n_samples, )\n",
    "        Samples\n",
    "\n",
    "    edges: np.array, shape=(n_bins, )\n",
    "        Histogram bin edges\n",
    "\n",
    "\n",
    "    Return\n",
    "    ------\n",
    "\n",
    "    H: float\n",
    "        Entropy estimate\n",
    "    \"\"\"\n",
    "\n",
    "    # insert your code here (2 pt)\n",
    "    phat = f_phat(x)\n",
    "    N = len(phat)\n",
    "\n",
    "    # Compute the MLE entropy for the full sample\n",
    "    full_entropy = entropy_mle(phat)\n",
    "\n",
    "    # Compute the leave-one-out entropies\n",
    "    leave_one_out_entropies = []\n",
    "    for i in range(len(x)):\n",
    "        x_leave_one_out = np.delete(x, i, axis=0)\n",
    "        phat_leave_one_out = f_phat(x_leave_one_out)\n",
    "        leave_one_out_entropy = entropy_mle(phat_leave_one_out)\n",
    "        leave_one_out_entropies.append(leave_one_out_entropy)\n",
    "\n",
    "    # Average leave-one-out entropy\n",
    "    mean_leave_one_out_entropy = np.mean(leave_one_out_entropies)\n",
    "\n",
    "    # Jackknife entropy estimate\n",
    "    H = N * full_entropy - (N - 1) * mean_leave_one_out_entropy\n",
    "\n",
    "    return H"
   ]
  },
  {
   "cell_type": "markdown",
   "metadata": {},
   "source": [
    "### Coverage-adjusted\n",
    "\n",
    "*Grading: 1 pts*\n",
    "\n",
    "$C = 1 - \\frac{\\# f_{i}=1}{N}$\n",
    "\n",
    "$\\hat{P}_{C}= \\hat{P}\\cdot C$ \n",
    "\n",
    "$H_{CA}= -\\sum_{x}\\frac{\\hat{P_{C}}(x)log(\\hat{P_{C}}(x))}{1-(1-\\hat{P_{C}}(x))^N}$\n",
    "\n"
   ]
  },
  {
   "cell_type": "code",
   "execution_count": 178,
   "metadata": {},
   "outputs": [],
   "source": [
    "def entropy_cae(phat, n):\n",
    "    \"\"\"coverage-adjusted estimator of discrete entropy\n",
    "\n",
    "    Parameters\n",
    "    ----------\n",
    "\n",
    "    phat: np.array, shape=(n_bins, )\n",
    "        Estimate of the distribution / histogram\n",
    "\n",
    "    n: int\n",
    "        Number of samples.\n",
    "\n",
    "\n",
    "    Return\n",
    "    ------\n",
    "\n",
    "    H: float\n",
    "        Entropy estimate\n",
    "    \"\"\"\n",
    "\n",
    "    # insert your code here (1 pt)\n",
    "    single_occurrences = np.sum(phat == (1 / n))\n",
    "    C = 1 - (single_occurrences / n)\n",
    "    phat_c = phat * C\n",
    "\n",
    "    # Coverage-adjusted entropy\n",
    "    H = -np.sum(\n",
    "        [(pc * np.log2(pc)) / (1 - (1 - pc) ** n) if pc > 0 else 0 for pc in phat_c]\n",
    "    )\n",
    "\n",
    "    return H"
   ]
  },
  {
   "cell_type": "markdown",
   "metadata": {},
   "source": [
    "## Advanced\n",
    "*Grading: 1 + 3 pts*"
   ]
  },
  {
   "cell_type": "markdown",
   "metadata": {},
   "source": [
    "### JVHW\n",
    "*Grading: 1 pts*"
   ]
  },
  {
   "cell_type": "code",
   "execution_count": 179,
   "metadata": {},
   "outputs": [],
   "source": [
    "def entropy_jvhw(x):\n",
    "    \"\"\"JVHW estimator of discrete entropy.\n",
    "\n",
    "    Parameter\n",
    "    ---------\n",
    "    x: np.array, shape=(n_samples, )\n",
    "        Samples\n",
    "\n",
    "    Return\n",
    "    ------\n",
    "    H: float\n",
    "        Entropy estimate\n",
    "    \"\"\"\n",
    "\n",
    "    # insert your code here (1 pt)\n",
    "\n",
    "    return H"
   ]
  },
  {
   "cell_type": "markdown",
   "metadata": {},
   "source": [
    "### Bonus points: Unseen or Best Upper Bounds estimator\n",
    "*Grading: 3 bonus pts*"
   ]
  },
  {
   "cell_type": "code",
   "execution_count": 180,
   "metadata": {},
   "outputs": [],
   "source": [
    "# insert your code here\n",
    "\n",
    "# ------------------------------------------\n",
    "# Port Unseen or Best Upper Bounds estimator\n",
    "# from MatLab to Python. (3 bonus pts)\n",
    "# ------------------------------------------"
   ]
  },
  {
   "cell_type": "markdown",
   "metadata": {},
   "source": [
    "# Task 2: Distributions\n",
    "*Grading: 4 pts*"
   ]
  },
  {
   "cell_type": "markdown",
   "metadata": {},
   "source": [
    "## Uniform distribution\n",
    "*Grading: 2 pts*"
   ]
  },
  {
   "cell_type": "code",
   "execution_count": 181,
   "metadata": {},
   "outputs": [
    {
     "name": "stdout",
     "output_type": "stream",
     "text": [
      "10.0\n"
     ]
    }
   ],
   "source": [
    "D = 10\n",
    "N = 2**D\n",
    "\n",
    "p = 1 / N * np.ones(N)  # true distribution\n",
    "\n",
    "H = -np.sum(p * np.log2(p))  # true entropy\n",
    "\n",
    "print(H)"
   ]
  },
  {
   "cell_type": "markdown",
   "metadata": {},
   "source": [
    "Sample from the uniform distribution using sample sizes of 100 and 10000. Plot the true distribution and the sampled distributions. What do you notice? (2 pt)"
   ]
  },
  {
   "cell_type": "code",
   "execution_count": 182,
   "metadata": {},
   "outputs": [
    {
     "data": {
      "image/png": "[encoded data removed]",
      "text/plain": [
       "<Figure size 640x480 with 3 Axes>"
      ]
     },
     "metadata": {},
     "output_type": "display_data"
    }
   ],
   "source": [
    "# insert your code here\n",
    "rng = np.random.default_rng(0)\n",
    "\n",
    "# ------------------------------------\n",
    "# Sample from the uniform distribution\n",
    "# using sample size of 100 (0.5 pts)\n",
    "# ------------------------------------\n",
    "sample_size_100 = rng.choice(N, size=100, replace=True)\n",
    "sampled_dist_100, _ = np.histogram(sample_size_100, bins=np.arange(N + 1), density=True)\n",
    "# ------------------------------------\n",
    "# Sample from the uniform distribution\n",
    "# using sample size of 10000 (0.5 pts)\n",
    "# ------------------------------------\n",
    "sample_size_10000 = rng.choice(N, size=10000, replace=True)\n",
    "sampled_dist_10000, _ = np.histogram(\n",
    "    sample_size_10000, bins=np.arange(N + 1), density=True\n",
    ")\n",
    "# ------------------------------------\n",
    "# Plot the true distribution and\n",
    "# the sampled distributions. (0.5 pts)\n",
    "# ------------------------------------\n",
    "plt.subplot(3, 1, 1)\n",
    "plt.plot(p, label=\"True Distribution\")\n",
    "plt.title(\"True Distribution\")\n",
    "plt.xlabel(\"Sequence\")\n",
    "plt.ylabel(\"Probability\")\n",
    "\n",
    "# Plot sampled distribution with sample size 100\n",
    "plt.subplot(3, 1, 2)\n",
    "plt.plot(sampled_dist_100, label=\"Sampled Distribution (n=100)\")\n",
    "plt.title(\"Sampled Distribution (n=100)\")\n",
    "plt.xlabel(\"Sequence\")\n",
    "plt.ylabel(\"Probability\")\n",
    "\n",
    "# Plot sampled distribution with sample size 10000\n",
    "plt.subplot(3, 1, 3)\n",
    "plt.plot(sampled_dist_10000, label=\"Sampled Distribution (n=10000)\")\n",
    "plt.title(\"Sampled Distribution (n=10000)\")\n",
    "plt.xlabel(\"Sequence\")\n",
    "plt.ylabel(\"Probability\")\n",
    "\n",
    "plt.tight_layout()\n",
    "plt.show()"
   ]
  },
  {
   "cell_type": "markdown",
   "metadata": {},
   "source": [
    "Use the framework below to generate samples of different size (logarithmically spaced between 10 and 100000) and evaluate the different entropy estimators for multiple runs."
   ]
  },
  {
   "cell_type": "code",
   "execution_count": 183,
   "metadata": {},
   "outputs": [
    {
     "name": "stdout",
     "output_type": "stream",
     "text": [
      "0\n",
      "1\n",
      "2\n",
      "3\n",
      "4\n",
      "5\n",
      "6\n",
      "7\n",
      "8\n",
      "9\n"
     ]
    }
   ],
   "source": [
    "sample_sizes = np.round(np.logspace(1, 5, num=10)).astype(int)\n",
    "n_runs = 30\n",
    "rng = np.random.default_rng(1)\n",
    "\n",
    "edges = np.arange(-0.5, N, 1)\n",
    "\n",
    "h_mle = np.zeros((len(sample_sizes), n_runs))\n",
    "h_mm = np.zeros((len(sample_sizes), n_runs))\n",
    "h_jk = np.zeros((len(sample_sizes), n_runs))\n",
    "h_cae = np.zeros((len(sample_sizes), n_runs))\n",
    "# h_jvhw = np.zeros((len(sample_sizes), n_runs))\n",
    "\n",
    "# add h_unseen or h_bub here if you implemented them.\n",
    "\n",
    "for i, S in enumerate(sample_sizes):\n",
    "    for j in np.arange(n_runs):\n",
    "\n",
    "        # ------------------------------------\n",
    "        # Sample from the uniform distribution\n",
    "        # with different sample size (0.5 pts)\n",
    "        # ------------------------------------\n",
    "        x = rng.choice([0, 1], size=(S, 10))  # Generate binary sequences\n",
    "        phat = f_phat(x)\n",
    "\n",
    "        # insert your code here\n",
    "\n",
    "        h_mle[i, j] = entropy_mle(phat)\n",
    "        h_mm[i, j] = entropy_mm(phat, S)\n",
    "        h_cae[i, j] = entropy_cae(phat, S)\n",
    "        if i < 7:\n",
    "            h_jk[i, j] = entropy_jk(x, edges)\n",
    "    print(i)\n",
    "    # h_jvhw[i, j] = entropy_jvhw(x)"
   ]
  },
  {
   "cell_type": "markdown",
   "metadata": {},
   "source": [
    "Plot the resulting average estimate of the entropy for each of the estimators. Which is best? If you implemented everything correctly, this plot should roughly look like in the lecture."
   ]
  },
  {
   "cell_type": "code",
   "execution_count": 184,
   "metadata": {},
   "outputs": [
    {
     "data": {
      "text/plain": [
       "<matplotlib.legend.Legend at 0x218c1125eb0>"
      ]
     },
     "execution_count": 184,
     "metadata": {},
     "output_type": "execute_result"
    },
    {
     "data": {
      "image/png": "[encoded data removed]",
      "text/plain": [
       "<Figure size 640x480 with 1 Axes>"
      ]
     },
     "metadata": {},
     "output_type": "display_data"
    }
   ],
   "source": [
    "plt.figure()\n",
    "\n",
    "plt.semilogx(sample_sizes, np.mean(h_mle, axis=1), label=\"mle\")\n",
    "plt.semilogx(sample_sizes, np.mean(h_mm, axis=1), label=\"mm\")\n",
    "plt.semilogx(sample_sizes, np.mean(h_cae, axis=1), label=\"cae\")\n",
    "plt.semilogx(sample_sizes, np.mean(h_jk, axis=1), label=\"jk\")\n",
    "# plt.semilogx(sample_sizes, np.mean(h_jvhw, axis=1), label=\"jvhw\")\n",
    "\n",
    "# plot h_unseen or h_bub here if you implemented them.\n",
    "\n",
    "plt.axhline(H, color=\"black\", linestyle=\":\")\n",
    "\n",
    "plt.legend()"
   ]
  },
  {
   "cell_type": "markdown",
   "metadata": {},
   "source": [
    "## Zipf distribution\n",
    "*Grading: 2 pts*\n",
    "\n",
    "[Zipf's law ](https://en.wikipedia.org/wiki/Zipf%27s_law) refers to a family of power law like distributions for which $p_k \\sim 1/k^d$. We will simply use $d=1$ here.   \n",
    "\n",
    "Adapt the framework above to sample from a Zipf distribution and evaluate the estimators for this case. Are there differences to the uniform case? (2 pts)"
   ]
  },
  {
   "cell_type": "code",
   "execution_count": 185,
   "metadata": {},
   "outputs": [
    {
     "name": "stdout",
     "output_type": "stream",
     "text": [
      "7.510649703297878\n"
     ]
    }
   ],
   "source": [
    "D = 10\n",
    "N = 2**D\n",
    "\n",
    "p = 1 / (np.arange(0, N) + 1)  # true distribution\n",
    "p = p / np.sum(p)\n",
    "\n",
    "H = -np.sum(p * np.log2(p))  # true entropy\n",
    "\n",
    "print(H)"
   ]
  },
  {
   "cell_type": "markdown",
   "metadata": {},
   "source": [
    "Sample from the Zipf distribution using sample sizes of 100 and 10000. In this case, the function `choice` of numpys random number generator is very helpful for sampling. Plot the true distribution and the sampled distributions. What do you notice? "
   ]
  },
  {
   "cell_type": "code",
   "execution_count": 186,
   "metadata": {},
   "outputs": [],
   "source": [
    "# insert your code here\n",
    "rng = np.random.default_rng(2)\n",
    "\n",
    "# ---------------------------------------\n",
    "# Sample from the Zipf distribution\n",
    "# using sample size of 100 (0.5 pts)\n",
    "# ---------------------------------------\n",
    "\n",
    "\n",
    "# ---------------------------------------\n",
    "# Sample from the Zipf distribution\n",
    "# using sample size of 10000 (0.5 pts)\n",
    "# ---------------------------------------\n",
    "\n",
    "\n",
    "# ---------------------------------------\n",
    "# Plot the true distribution and the sampled\n",
    "# distributions. (0.5 pts)\n",
    "# ---------------------------------------"
   ]
  },
  {
   "cell_type": "markdown",
   "metadata": {},
   "source": [
    "Use the framework below to generate samples of different size (logarithmically spaced between 10 and 100000) and evaluate the different entropy estimators for multiple runs."
   ]
  },
  {
   "cell_type": "code",
   "execution_count": 187,
   "metadata": {},
   "outputs": [
    {
     "ename": "KeyboardInterrupt",
     "evalue": "",
     "output_type": "error",
     "traceback": [
      "\u001b[1;31m---------------------------------------------------------------------------\u001b[0m",
      "\u001b[1;31mKeyboardInterrupt\u001b[0m                         Traceback (most recent call last)",
      "Cell \u001b[1;32mIn[187], line 28\u001b[0m\n\u001b[0;32m     26\u001b[0m h_mm[i, j] \u001b[38;5;241m=\u001b[39m entropy_mm(phat, S)\n\u001b[0;32m     27\u001b[0m h_cae[i, j] \u001b[38;5;241m=\u001b[39m entropy_cae(phat, S)\n\u001b[1;32m---> 28\u001b[0m h_jk[i, j] \u001b[38;5;241m=\u001b[39m \u001b[43mentropy_jk\u001b[49m\u001b[43m(\u001b[49m\u001b[43mx\u001b[49m\u001b[43m,\u001b[49m\u001b[43m \u001b[49m\u001b[43medges\u001b[49m\u001b[43m)\u001b[49m\n\u001b[0;32m     29\u001b[0m h_jvhw[i, j] \u001b[38;5;241m=\u001b[39m entropy_jvhw(x)\n",
      "Cell \u001b[1;32mIn[177], line 31\u001b[0m, in \u001b[0;36mentropy_jk\u001b[1;34m(x, edges)\u001b[0m\n\u001b[0;32m     29\u001b[0m \u001b[38;5;28;01mfor\u001b[39;00m i \u001b[38;5;129;01min\u001b[39;00m \u001b[38;5;28mrange\u001b[39m(\u001b[38;5;28mlen\u001b[39m(x)):\n\u001b[0;32m     30\u001b[0m     x_leave_one_out \u001b[38;5;241m=\u001b[39m np\u001b[38;5;241m.\u001b[39mdelete(x, i, axis\u001b[38;5;241m=\u001b[39m\u001b[38;5;241m0\u001b[39m)\n\u001b[1;32m---> 31\u001b[0m     phat_leave_one_out \u001b[38;5;241m=\u001b[39m \u001b[43mf_phat\u001b[49m\u001b[43m(\u001b[49m\u001b[43mx_leave_one_out\u001b[49m\u001b[43m)\u001b[49m\n\u001b[0;32m     32\u001b[0m     leave_one_out_entropy \u001b[38;5;241m=\u001b[39m entropy_mle(phat_leave_one_out)\n\u001b[0;32m     33\u001b[0m     leave_one_out_entropies\u001b[38;5;241m.\u001b[39mappend(leave_one_out_entropy)\n",
      "Cell \u001b[1;32mIn[174], line 34\u001b[0m, in \u001b[0;36mf_phat\u001b[1;34m(sequences)\u001b[0m\n\u001b[0;32m     20\u001b[0m \u001b[38;5;250m\u001b[39m\u001b[38;5;124;03m\"\"\"\u001b[39;00m\n\u001b[0;32m     21\u001b[0m \u001b[38;5;124;03mComputes the probability of each binary sequence p(X=x).\u001b[39;00m\n\u001b[0;32m     22\u001b[0m \n\u001b[1;32m   (...)\u001b[0m\n\u001b[0;32m     31\u001b[0m \u001b[38;5;124;03m    An array of probabilities corresponding to each possible binary sequence.\u001b[39;00m\n\u001b[0;32m     32\u001b[0m \u001b[38;5;124;03m\"\"\"\u001b[39;00m\n\u001b[0;32m     33\u001b[0m \u001b[38;5;66;03m# Transform each binary sequence to its corresponding integer value\u001b[39;00m\n\u001b[1;32m---> 34\u001b[0m f_Z \u001b[38;5;241m=\u001b[39m np\u001b[38;5;241m.\u001b[39marray([\u001b[43mf\u001b[49m\u001b[43m(\u001b[49m\u001b[43mz\u001b[49m\u001b[43m)\u001b[49m \u001b[38;5;28;01mfor\u001b[39;00m z \u001b[38;5;129;01min\u001b[39;00m sequences])\n\u001b[0;32m     36\u001b[0m \u001b[38;5;66;03m# Count the occurrences of each integer value\u001b[39;00m\n\u001b[0;32m     37\u001b[0m unique_values, counts \u001b[38;5;241m=\u001b[39m np\u001b[38;5;241m.\u001b[39munique(f_Z, return_counts\u001b[38;5;241m=\u001b[39m\u001b[38;5;28;01mTrue\u001b[39;00m)\n",
      "Cell \u001b[1;32mIn[174], line 16\u001b[0m, in \u001b[0;36mf\u001b[1;34m(z)\u001b[0m\n\u001b[0;32m      2\u001b[0m \u001b[38;5;28;01mdef\u001b[39;00m \u001b[38;5;21mf\u001b[39m(z):\n\u001b[0;32m      3\u001b[0m \u001b[38;5;250m    \u001b[39m\u001b[38;5;124;03m\"\"\"\u001b[39;00m\n\u001b[0;32m      4\u001b[0m \u001b[38;5;124;03m    Converts a binary sequence to its corresponding integer.\u001b[39;00m\n\u001b[0;32m      5\u001b[0m \n\u001b[1;32m   (...)\u001b[0m\n\u001b[0;32m     14\u001b[0m \u001b[38;5;124;03m        The integer representation of the binary sequence.\u001b[39;00m\n\u001b[0;32m     15\u001b[0m \u001b[38;5;124;03m    \"\"\"\u001b[39;00m\n\u001b[1;32m---> 16\u001b[0m     \u001b[38;5;28;01mreturn\u001b[39;00m \u001b[38;5;28;43msum\u001b[39;49m\u001b[43m(\u001b[49m\u001b[43mz\u001b[49m\u001b[43m[\u001b[49m\u001b[43mi\u001b[49m\u001b[43m]\u001b[49m\u001b[43m \u001b[49m\u001b[38;5;241;43m*\u001b[39;49m\u001b[43m \u001b[49m\u001b[43m(\u001b[49m\u001b[38;5;241;43m2\u001b[39;49m\u001b[38;5;241;43m*\u001b[39;49m\u001b[38;5;241;43m*\u001b[39;49m\u001b[43mi\u001b[49m\u001b[43m)\u001b[49m\u001b[43m \u001b[49m\u001b[38;5;28;43;01mfor\u001b[39;49;00m\u001b[43m \u001b[49m\u001b[43mi\u001b[49m\u001b[43m \u001b[49m\u001b[38;5;129;43;01min\u001b[39;49;00m\u001b[43m \u001b[49m\u001b[38;5;28;43mrange\u001b[39;49m\u001b[43m(\u001b[49m\u001b[38;5;28;43mlen\u001b[39;49m\u001b[43m(\u001b[49m\u001b[43mz\u001b[49m\u001b[43m)\u001b[49m\u001b[43m)\u001b[49m\u001b[43m)\u001b[49m\n",
      "Cell \u001b[1;32mIn[174], line 16\u001b[0m, in \u001b[0;36m<genexpr>\u001b[1;34m(.0)\u001b[0m\n\u001b[0;32m      2\u001b[0m \u001b[38;5;28;01mdef\u001b[39;00m \u001b[38;5;21mf\u001b[39m(z):\n\u001b[0;32m      3\u001b[0m \u001b[38;5;250m    \u001b[39m\u001b[38;5;124;03m\"\"\"\u001b[39;00m\n\u001b[0;32m      4\u001b[0m \u001b[38;5;124;03m    Converts a binary sequence to its corresponding integer.\u001b[39;00m\n\u001b[0;32m      5\u001b[0m \n\u001b[1;32m   (...)\u001b[0m\n\u001b[0;32m     14\u001b[0m \u001b[38;5;124;03m        The integer representation of the binary sequence.\u001b[39;00m\n\u001b[0;32m     15\u001b[0m \u001b[38;5;124;03m    \"\"\"\u001b[39;00m\n\u001b[1;32m---> 16\u001b[0m     \u001b[38;5;28;01mreturn\u001b[39;00m \u001b[38;5;28msum\u001b[39m(z[i] \u001b[38;5;241m*\u001b[39m (\u001b[38;5;241m2\u001b[39m\u001b[38;5;241m*\u001b[39m\u001b[38;5;241m*\u001b[39mi) \u001b[38;5;28;01mfor\u001b[39;00m i \u001b[38;5;129;01min\u001b[39;00m \u001b[38;5;28mrange\u001b[39m(\u001b[38;5;28mlen\u001b[39m(z)))\n",
      "\u001b[1;31mKeyboardInterrupt\u001b[0m: "
     ]
    }
   ],
   "source": [
    "sample_sizes = np.round(np.logspace(1, 5, num=10))\n",
    "n_runs = 30\n",
    "rng = np.random.default_rng(3)\n",
    "\n",
    "edges = np.arange(-0.5, N, 1)\n",
    "\n",
    "h_mle = np.zeros((len(sample_sizes), n_runs))\n",
    "h_mm = np.zeros((len(sample_sizes), n_runs))\n",
    "h_jk = np.zeros((len(sample_sizes), n_runs))\n",
    "# h_cae = np.zeros((len(sample_sizes), n_runs))\n",
    "# h_jvhw = np.zeros((len(sample_sizes), n_runs))\n",
    "\n",
    "# add h_unseen or h_bub here if you implemented them.\n",
    "\n",
    "for i, S in enumerate(sample_sizes):\n",
    "    for j in np.arange(n_runs):\n",
    "\n",
    "        # ---------------------------------------\n",
    "        # Sample from the Zipf distribution\n",
    "        # with different sample size (0.5 pts)\n",
    "        # ---------------------------------------\n",
    "\n",
    "        # insert your code here\n",
    "\n",
    "        h_mle[i, j] = entropy_mle(phat)\n",
    "        h_mm[i, j] = entropy_mm(phat, S)\n",
    "        h_cae[i, j] = entropy_cae(phat, S)\n",
    "        h_jk[i, j] = entropy_jk(x, edges)\n",
    "        h_jvhw[i, j] = entropy_jvhw(x)"
   ]
  },
  {
   "cell_type": "markdown",
   "metadata": {},
   "source": [
    "Plot resulting average estimate of the entropy for each of the estimators. Which is best? If you implemented everything correctly, this plot should roughly look like in the lecture."
   ]
  },
  {
   "cell_type": "code",
   "execution_count": null,
   "metadata": {},
   "outputs": [
    {
     "data": {
      "text/plain": [
       "<matplotlib.legend.Legend at 0x218bb9207d0>"
      ]
     },
     "execution_count": 94,
     "metadata": {},
     "output_type": "execute_result"
    },
    {
     "data": {
      "image/png": "[encoded data removed]",
      "text/plain": [
       "<Figure size 640x480 with 1 Axes>"
      ]
     },
     "metadata": {},
     "output_type": "display_data"
    }
   ],
   "source": [
    "plt.figure()\n",
    "\n",
    "plt.semilogx(sample_sizes, np.mean(h_mle, axis=1), label=\"mle\")\n",
    "plt.semilogx(sample_sizes, np.mean(h_mm, axis=1), label=\"mm\")\n",
    "plt.semilogx(sample_sizes, np.mean(h_cae, axis=1), label=\"cae\")\n",
    "plt.semilogx(sample_sizes, np.mean(h_jk, axis=1), label=\"jk\")\n",
    "plt.semilogx(sample_sizes, np.mean(h_jvhw, axis=1), label=\"jvhw\")\n",
    "\n",
    "# plot h_unseen or h_bub here if you implemented them.\n",
    "\n",
    "plt.axhline(H, color=\"black\", linestyle=\":\")\n",
    "plt.legend()"
   ]
  }
 ],
 "metadata": {
  "kernelspec": {
   "display_name": "python3",
   "language": "python",
   "name": "python3"
  },
  "language_info": {
   "codemirror_mode": {
    "name": "ipython",
    "version": 3
   },
   "file_extension": ".py",
   "mimetype": "text/x-python",
   "name": "python",
   "nbconvert_exporter": "python",
   "pygments_lexer": "ipython3",
   "version": "3.12.3"
  }
 },
 "nbformat": 4,
 "nbformat_minor": 4
}
